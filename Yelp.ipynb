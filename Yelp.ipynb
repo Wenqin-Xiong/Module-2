{
 "cells": [
  {
   "cell_type": "code",
   "execution_count": 1,
   "metadata": {},
   "outputs": [],
   "source": [
    "import pandas as pandas\n",
    "import nltk\n",
    "from nltk.corpus import stopwords\n",
    "import time\n",
    "import re\n",
    "import numpy as np\n",
    "from nltk.stem.wordnet import WordNetLemmatizer \n",
    "from nltk.stem.porter import PorterStemmer \n",
    "\n",
    "import warnings\n",
    "warnings.filterwarnings(action='ignore', category=UserWarning, module='gensim')"
   ]
  },
  {
   "cell_type": "code",
   "execution_count": 2,
   "metadata": {},
   "outputs": [],
   "source": [
    "import gensim"
   ]
  },
  {
   "cell_type": "code",
   "execution_count": 3,
   "metadata": {},
   "outputs": [],
   "source": [
    "filename = 'train_data.csv'\n",
    "t1 = time.time()\n",
    "data = pandas.read_csv('train_data.csv')"
   ]
  },
  {
   "cell_type": "code",
   "execution_count": 4,
   "metadata": {},
   "outputs": [],
   "source": [
    "data_5=data[data[\"stars\"]==5]\n",
    "data_txt5=data_5[\"text\"]\n",
    "data_txt5=data_txt5[0:50]\n",
    "data_txt5.to_csv(\"5 star.csv\",sep=\",\")\n",
    "\n",
    "data_1=data[data[\"stars\"]==1]\n",
    "data_txt1=data_1[\"text\"]\n",
    "data_txt1=data_txt1[3:53]\n",
    "data_txt1.to_csv(\"1 star.csv\",sep=\",\")"
   ]
  },
  {
   "cell_type": "code",
   "execution_count": 5,
   "metadata": {},
   "outputs": [],
   "source": [
    "#nltk.download()"
   ]
  },
  {
   "cell_type": "code",
   "execution_count": 6,
   "metadata": {
    "scrolled": true
   },
   "outputs": [],
   "source": [
    "stop = set(stopwords.words(\"english\"))\n",
    "\n",
    "data_modeltxt=data[\"text\"]\n",
    "#data_modeltxt=data_modeltxt[0:1000]\n",
    "data_modeltxt.head()\n",
    "    \n",
    "def stop_delete(sentence):\n",
    "    sentence=sentence.lower().split()\n",
    "    sen=[word for word in sentence if not word in stop]\n",
    "    sen_re=np.array([])\n",
    "    for j in sen:\n",
    "        word_re=re.sub('[^a-zA-Z]','', j)\n",
    "        if word_re != \"\":\n",
    "            sen_re=np.append(sen_re,word_re)\n",
    "    return sen_re"
   ]
  },
  {
   "cell_type": "code",
   "execution_count": null,
   "metadata": {},
   "outputs": [],
   "source": [
    "from gensim import corpora\n",
    "from collections import defaultdict\n",
    "\n",
    "lem = WordNetLemmatizer()\n",
    "stem = PorterStemmer()\n",
    "\n",
    "document=[];\n",
    "for i in data_modeltxt:\n",
    "    txt=stop_delete(i)\n",
    "    txt=[stem.stem(word) for word in txt]\n",
    "    document.append(txt);\n",
    "\n",
    "# remove words that appear only once\n",
    "frequency=defaultdict(int)\n",
    "for txt in document:\n",
    "    for word in txt:\n",
    "        frequency[word] += 1\n",
    "\n",
    "document = [[word for word in txt if frequency[word] > 1] for txt in document]"
   ]
  },
  {
   "cell_type": "code",
   "execution_count": null,
   "metadata": {},
   "outputs": [],
   "source": [
    "#dictionary\n",
    "dictionary = corpora.Dictionary(document)\n",
    "dictionary.save('yelpword.dict')\n",
    "#list to corpus\n",
    "corpus = [dictionary.doc2bow(txt) for txt in document]\n",
    "corpora.MmCorpus.serialize('yelpreview.mm', corpus)\n",
    "document = corpora.MmCorpus('yelpreview.mm')"
   ]
  },
  {
   "cell_type": "code",
   "execution_count": null,
   "metadata": {},
   "outputs": [],
   "source": [
    "LDA = gensim.models.ldamodel.LdaModel(corpus=document, id2word=dictionary, num_topics=100)"
   ]
  },
  {
   "cell_type": "code",
   "execution_count": null,
   "metadata": {},
   "outputs": [],
   "source": [
    "LDA.print_topics(5)"
   ]
  },
  {
   "cell_type": "code",
   "execution_count": null,
   "metadata": {},
   "outputs": [],
   "source": []
  }
 ],
 "metadata": {
  "kernelspec": {
   "display_name": "Python 3",
   "language": "python",
   "name": "python3"
  },
  "language_info": {
   "codemirror_mode": {
    "name": "ipython",
    "version": 3
   },
   "file_extension": ".py",
   "mimetype": "text/x-python",
   "name": "python",
   "nbconvert_exporter": "python",
   "pygments_lexer": "ipython3",
   "version": "3.6.3"
  }
 },
 "nbformat": 4,
 "nbformat_minor": 2
}
