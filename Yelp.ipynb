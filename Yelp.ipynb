{
 "cells": [
  {
   "cell_type": "code",
   "execution_count": 1,
   "metadata": {},
   "outputs": [],
   "source": [
    "import pandas as pandas\n",
    "import nltk\n",
    "from nltk.corpus import stopwords\n",
    "import time\n",
    "\n",
    "filename = 'train_data.csv'\n",
    "t1 = time.time()\n",
    "data = pandas.read_csv('train_data.csv')"
   ]
  },
  {
   "cell_type": "code",
   "execution_count": 7,
   "metadata": {
    "scrolled": true
   },
   "outputs": [
    {
     "data": {
      "text/html": [
       "<div>\n",
       "<style>\n",
       "    .dataframe thead tr:only-child th {\n",
       "        text-align: right;\n",
       "    }\n",
       "\n",
       "    .dataframe thead th {\n",
       "        text-align: left;\n",
       "    }\n",
       "\n",
       "    .dataframe tbody tr th {\n",
       "        vertical-align: top;\n",
       "    }\n",
       "</style>\n",
       "<table border=\"1\" class=\"dataframe\">\n",
       "  <thead>\n",
       "    <tr style=\"text-align: right;\">\n",
       "      <th></th>\n",
       "      <th>stars</th>\n",
       "      <th>name</th>\n",
       "      <th>text</th>\n",
       "      <th>date</th>\n",
       "      <th>city</th>\n",
       "      <th>longitude</th>\n",
       "      <th>latitude</th>\n",
       "      <th>categories</th>\n",
       "    </tr>\n",
       "  </thead>\n",
       "  <tbody>\n",
       "    <tr>\n",
       "      <th>0</th>\n",
       "      <td>1</td>\n",
       "      <td>McDonald's</td>\n",
       "      <td>Seriously cannot stand this McDonald's. They N...</td>\n",
       "      <td>2014-12-29</td>\n",
       "      <td>Glendale</td>\n",
       "      <td>-112.205020</td>\n",
       "      <td>33.509597</td>\n",
       "      <td>['Burgers', 'Fast Food', 'Restaurants']</td>\n",
       "    </tr>\n",
       "    <tr>\n",
       "      <th>1</th>\n",
       "      <td>5</td>\n",
       "      <td>Tom Colicchio's Craftsteak</td>\n",
       "      <td>Amazing food, truly excellent best lobster bis...</td>\n",
       "      <td>2013-03-07</td>\n",
       "      <td>Las Vegas</td>\n",
       "      <td>-115.169751</td>\n",
       "      <td>36.102918</td>\n",
       "      <td>['Steakhouses', 'Restaurants', 'Cheesesteaks',...</td>\n",
       "    </tr>\n",
       "    <tr>\n",
       "      <th>2</th>\n",
       "      <td>5</td>\n",
       "      <td>Fishman Lobster Clubhouse Restaurant</td>\n",
       "      <td>This was my second time here, and the seafood ...</td>\n",
       "      <td>2015-11-24</td>\n",
       "      <td>Toronto</td>\n",
       "      <td>-79.300795</td>\n",
       "      <td>43.824234</td>\n",
       "      <td>['Seafood', 'Restaurants', 'Chinese', 'Live/Ra...</td>\n",
       "    </tr>\n",
       "    <tr>\n",
       "      <th>3</th>\n",
       "      <td>1</td>\n",
       "      <td>Bonjour Brioche</td>\n",
       "      <td>Long story short.\\n\\nBunch of rude, heartless,...</td>\n",
       "      <td>2016-12-20</td>\n",
       "      <td>Toronto</td>\n",
       "      <td>-79.346287</td>\n",
       "      <td>43.659795</td>\n",
       "      <td>['Breakfast &amp; Brunch', 'French', 'Restaurants']</td>\n",
       "    </tr>\n",
       "    <tr>\n",
       "      <th>4</th>\n",
       "      <td>4</td>\n",
       "      <td>Dilly's Deli</td>\n",
       "      <td>We grabbed some dinner here last night before ...</td>\n",
       "      <td>2010-09-28</td>\n",
       "      <td>Tempe</td>\n",
       "      <td>-111.945365</td>\n",
       "      <td>33.422175</td>\n",
       "      <td>['Caterers', 'Sandwiches', 'Event Planning &amp; S...</td>\n",
       "    </tr>\n",
       "  </tbody>\n",
       "</table>\n",
       "</div>"
      ],
      "text/plain": [
       "   stars                                  name  \\\n",
       "0      1                            McDonald's   \n",
       "1      5            Tom Colicchio's Craftsteak   \n",
       "2      5  Fishman Lobster Clubhouse Restaurant   \n",
       "3      1                       Bonjour Brioche   \n",
       "4      4                          Dilly's Deli   \n",
       "\n",
       "                                                text        date       city  \\\n",
       "0  Seriously cannot stand this McDonald's. They N...  2014-12-29   Glendale   \n",
       "1  Amazing food, truly excellent best lobster bis...  2013-03-07  Las Vegas   \n",
       "2  This was my second time here, and the seafood ...  2015-11-24    Toronto   \n",
       "3  Long story short.\\n\\nBunch of rude, heartless,...  2016-12-20    Toronto   \n",
       "4  We grabbed some dinner here last night before ...  2010-09-28      Tempe   \n",
       "\n",
       "    longitude   latitude                                         categories  \n",
       "0 -112.205020  33.509597            ['Burgers', 'Fast Food', 'Restaurants']  \n",
       "1 -115.169751  36.102918  ['Steakhouses', 'Restaurants', 'Cheesesteaks',...  \n",
       "2  -79.300795  43.824234  ['Seafood', 'Restaurants', 'Chinese', 'Live/Ra...  \n",
       "3  -79.346287  43.659795    ['Breakfast & Brunch', 'French', 'Restaurants']  \n",
       "4 -111.945365  33.422175  ['Caterers', 'Sandwiches', 'Event Planning & S...  "
      ]
     },
     "execution_count": 7,
     "metadata": {},
     "output_type": "execute_result"
    }
   ],
   "source": [
    "data.head()"
   ]
  },
  {
   "cell_type": "code",
   "execution_count": 10,
   "metadata": {},
   "outputs": [],
   "source": [
    "data_5=data[data[\"stars\"]==5]\n",
    "data_txt5=data_5[\"text\"]\n",
    "data_txt5=data_txt5[0:50]\n",
    "data_txt5.to_csv(\"5star.csv\",sep=\",\")\n",
    "\n",
    "data_1=data[data[\"stars\"]==1]\n",
    "data_txt1=data_1[\"text\"]\n",
    "data_txt1=data_txt1[3:53]\n",
    "data_txt1.to_csv(\"1star.csv\",sep=\",\")"
   ]
  },
  {
   "cell_type": "code",
   "execution_count": null,
   "metadata": {},
   "outputs": [],
   "source": []
  },
  {
   "cell_type": "code",
   "execution_count": null,
   "metadata": {},
   "outputs": [],
   "source": []
  }
 ],
 "metadata": {
  "kernelspec": {
   "display_name": "Python 3",
   "language": "python",
   "name": "python3"
  },
  "language_info": {
   "codemirror_mode": {
    "name": "ipython",
    "version": 3
   },
   "file_extension": ".py",
   "mimetype": "text/x-python",
   "name": "python",
   "nbconvert_exporter": "python",
   "pygments_lexer": "ipython3",
   "version": "3.6.3"
  }
 },
 "nbformat": 4,
 "nbformat_minor": 2
}
